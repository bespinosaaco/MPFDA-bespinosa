{
 "cells": [
  {
   "cell_type": "markdown",
   "id": "716b806e-60ad-4e87-b275-d5e91ca32fa1",
   "metadata": {
    "id": "716b806e-60ad-4e87-b275-d5e91ca32fa1"
   },
   "source": [
    "# Project : Weekly Task & Habit Tracker\n",
    "## Overview of the Project\n",
    "In this project, you will develop a Weekly Task & Habit Tracker using Python. This tool will help users track their tasks and habits throughout the week, allowing them to efficiently manage and monitor their daily routines and progress. Whether for personal use or as a professional productivity tool, this project will empower you to create a highly functional, interactive application using fundamental programming concepts in Python.\n",
    "\n",
    "The task tracker will allow users to:\n",
    "\n",
    "- Add tasks to specific days of the week and being able to mark them as completed.\n",
    "- Add and track daily habits (such as exercise, water intake, reading, etc) and mark them as completed.\n",
    "- Remove tasks or habits when no longer needed.\n",
    "- View progress reports for both tasks and habits over a weekly or daily basis.\n",
    "\n",
    "## Objectives of the Project\n",
    "The primary goal of this project is to build a simple yet effective task and habit tracking application. Through this, you will:\n",
    "\n",
    "- Gain hands-on experience in developing Python applications with user input, loops, and conditionals.\n",
    "- Understand how to manage and manipulate data structures like dictionaries and lists to store and process data.\n",
    "- Learn how to design and implement interactive user interfaces in a command-line environment.\n",
    "- Develop a deep understanding of code modularity and best practices for organizing Python programs.\n",
    "\n",
    "## Evaluation Criteria\n",
    "Your project will be evaluated on the following aspects:\n",
    "\n",
    "- **Functionality**: The application should be fully functional, allowing users to add, remove, and mark tasks or habits as complete, as well as generate reports.\n",
    "\n",
    "- **Code Organization**: Code should be well-structured, with clear, meaningful variable names and appropriate use of functions. The overall organization should make it easy to extend or modify the program in the future.\n",
    "\n",
    "- **User Experience**: The application should be easy to use, with clear instructions, error handling, and appropriate feedback for the user.\n",
    "\n",
    "- **Completeness**: Ensure all features are implemented as described and that the program runs smoothly without errors.\n",
    "\n",
    "- **Creativity**: The application should be developed with an eye toward user experience. Feel free to enhance the application with additional features such as custom messages or additional functionality.\n",
    "\n",
    "\n",
    "By the end of this project, you will have developed a working task and habit tracker in Python, an excellent demonstration of your ability to apply programming skills to practical scenarios. You will also gain insights into software design, data management, and the development of tools that are both useful and efficient."
   ]
  },
  {
   "cell_type": "markdown",
   "id": "d5d1b472-0df8-4ffc-9ad6-f99d2eec262d",
   "metadata": {
    "id": "d5d1b472-0df8-4ffc-9ad6-f99d2eec262d"
   },
   "source": [
    "## Part 1: Initial Setup\n",
    "Set up the foundational structure for your weekly task and habit tracker.\n",
    "### Instructions:\n",
    "1. Create a list containing all the days of the week **('Monday', 'Tuesday', 'Wednesday', 'Thursday', 'Friday', 'Saturday', 'Sunday')**.\n",
    "2. Initialize an empty dictionary that will be used to track habits for the week.\n",
    "3. Create a second dictionary that uses the days of the week as keys, with each key initially linked to an empty dictionary for storing tasks."
   ]
  },
  {
   "cell_type": "code",
   "execution_count": 1,
   "id": "f1547fa4-5741-4921-9cc0-8774c11ee377",
   "metadata": {
    "id": "f1547fa4-5741-4921-9cc0-8774c11ee377"
   },
   "outputs": [
    {
     "name": "stdout",
     "output_type": "stream",
     "text": [
      "Weekly Habit Tracker Setup:\n",
      "Days of the week (list):  ['Monday', 'Tuesday', 'Wednesday', 'Thursday', 'Friday', 'Saturday', 'Sunday']\n",
      "Habit tracker (dict):  {}\n",
      "Task storage (dict):  {'Monday': {}, 'Tuesday': {}, 'Wednesday': {}, 'Thursday': {}, 'Friday': {}, 'Saturday': {}, 'Sunday': {}}\n"
     ]
    }
   ],
   "source": [
    "#your code goes here\n",
    "# Necessary imports\n",
    "import datetime\n",
    "import time\n",
    "\n",
    "# Initialize the variables\n",
    "week_days = ['Monday', 'Tuesday', 'Wednesday', 'Thursday', 'Friday', 'Saturday', 'Sunday']\n",
    "habits_tracker = {}    # empty dictionary that will be used to track habits for the week\n",
    "task_storage = {}     # will uses the days of the week as keys, with each key initially linked to an empty dictionary\n",
    "for day in week_days:\n",
    "    task_storage[day] = {}\n",
    "\n",
    "#Check Setup\n",
    "print(\"Weekly Habit Tracker Setup:\")\n",
    "print(\"Days of the week (list): \",week_days)\n",
    "print(\"Habit tracker (dict): \", habits_tracker)\n",
    "print(\"Task storage (dict): \", task_storage)"
   ]
  },
  {
   "cell_type": "code",
   "execution_count": 2,
   "id": "43e19244",
   "metadata": {},
   "outputs": [],
   "source": [
    "# Print the uncompleted and completed tasks\n",
    "def print_tasks(task_dict=task_storage):\n",
    "    \"\"\"\n",
    "    Function to display completed and uncompleted tasks.\n",
    "    Parameters: \n",
    "    - task_dict (dict): The dictionary containing tasks for each day.\n",
    "    \"\"\"\n",
    "    print(\"Current Task Tracker:\")\n",
    "    print(\"--------------------\")\n",
    "    print(\"Uncompleted tasks:\")\n",
    "    print(\"--------------------\")\n",
    "    for day,completed in task_dict.items():\n",
    "        for task, status in completed.items():\n",
    "            if not status:\n",
    "                print(f\"\\t{day}: {task}\")\n",
    "    print(\"--------------------\")\n",
    "    print(\"Completed tasks:\")\n",
    "    print(\"--------------------\")\n",
    "    for day,completed in task_dict.items():\n",
    "        for task, status in completed.items():\n",
    "            if status:\n",
    "                print(f\"\\t{day}: {task}\")\n",
    "    print(\"--------------------\")\n",
    "    \n",
    "def print_habits(habits_dict=habits_tracker):\n",
    "    \"\"\"\n",
    "    Function to display habits for the week.\n",
    "    Parameters: \n",
    "    - habits_dict (dict): The dictionary containing habits for the week.\n",
    "    \"\"\"\n",
    "    # Print habit tracker\n",
    "    print(\"Current Habit Tracker:\")\n",
    "    print(\"--------------------\")\n",
    "    for habit, days in habits_dict.items():\n",
    "        print(\"\")\n",
    "        print(habit)\n",
    "        print(\"--------------------\")\n",
    "        for day, status in days.items():\n",
    "            if status:\n",
    "                status_str = \"Completed\"\n",
    "            else:\n",
    "                status_str = \"Not Completed\"\n",
    "            print(f\"\\t{day}: {status_str}\")"
   ]
  },
  {
   "cell_type": "code",
   "execution_count": 6,
   "id": "3837d932",
   "metadata": {},
   "outputs": [
    {
     "name": "stdout",
     "output_type": "stream",
     "text": [
      "Current Task Tracker:\n",
      "--------------------\n",
      "Uncompleted tasks:\n",
      "--------------------\n",
      "--------------------\n",
      "Completed tasks:\n",
      "--------------------\n",
      "--------------------\n"
     ]
    }
   ],
   "source": [
    "print_tasks(task_storage)"
   ]
  },
  {
   "cell_type": "code",
   "execution_count": 7,
   "id": "c6613d94",
   "metadata": {},
   "outputs": [
    {
     "name": "stdout",
     "output_type": "stream",
     "text": [
      "Current Habit Tracker:\n",
      "--------------------\n"
     ]
    }
   ],
   "source": [
    "print_habits(habits_tracker)"
   ]
  },
  {
   "cell_type": "markdown",
   "id": "9638fbde-9b43-4c68-ae54-77f251099b8e",
   "metadata": {
    "id": "9638fbde-9b43-4c68-ae54-77f251099b8e"
   },
   "source": [
    "## Part 2: Add Tasks and Habits\n",
    "Build functions that let users add tasks to specific days and habits for the entire week.\n",
    "### Instructions\n",
    "1. **Create a function to add tasks:**\n",
    "- Ask the user which day they want to add the task to.\n",
    "- Make sure to validate the day. Display a message if the day was invalid.\n",
    "- Ask for the task name.\n",
    "- Store it in the dictionary you created to store tasks under the correct day.\n",
    "- Set the task’s value to *False* to show it hasn’t been completed yet.\n",
    "\n",
    "\n",
    "2. **Create a function to add habits:**\n",
    "- Ask the user for the name of the habit (e.g., “Drink Water”).\n",
    "- Make sure to check if the habit already exists. Display a message if it does.\n",
    "- If it’s new, add it to the dictionary you created to store habits.\n",
    "- For that habit, create a nested dictionary with all 7 days set to *False*.\n",
    "\n",
    "\n",
    "**Tip:** Use ***.strip()*** and ***.title()*** to clean up user input.\n",
    "- **.strip()** = Removes any extra spaces at the beginning or end of the text. People often hit the spacebar by accident and add leading or trailing unwanted spaces. Example: \"  Monday  \" can be fixed by using .strip(): \"Monday\"\"\n",
    "- **.title()** = Capitalizes the first letter of each word and makes the rest lowercase. It helps match formatting exactly (especially for days of the week). Example: \"monday\" or \"MONDAY\"\" will be changed to \"Monday\".\n",
    "- **If the day does not exist, show a helpful error message.**"
   ]
  },
  {
   "cell_type": "code",
   "execution_count": 3,
   "id": "8e5a08ca-bd93-486c-9dbd-621e16e3064c",
   "metadata": {
    "id": "8e5a08ca-bd93-486c-9dbd-621e16e3064c"
   },
   "outputs": [],
   "source": [
    "#your code goes here\n",
    "# Functions for the Weekly Habit Tracker\n",
    "def add_task_to(task_dict = task_storage, week_list=week_days):\n",
    "    \"\"\"\n",
    "    Function to add a task to a day after user input.\n",
    "    Parameters: \n",
    "    - task_dict (dict): The dictionary containing tasks for each day.\n",
    "    - week_list (list): The list of days in the week.\n",
    "    Returns:\n",
    "    - task_dict (dict): The updated dictionary with the new task added.\n",
    "    \"\"\"\n",
    "    days_string = \", \".join(week_list)\n",
    "    print(\"Copy one day: \", days_string)\n",
    "    day = input(\"What day do you want to add a task to (Copy from printed list)?: \").strip().title()\n",
    "    print(\"You entered the day: \", f'\"{day}\"')\n",
    "    if not day:\n",
    "        print(\"Day cannot be empty. Please try again.\")\n",
    "        return task_dict\n",
    "    elif day not in week_list:\n",
    "        print(f'\"{day}\" Invalid day. Please try again.')\n",
    "        return task_dict\n",
    "    task = input(\"Add a task (e.g Chores): \").strip().title()\n",
    "    print(\"You entered the task: \", f'\"{task}\"')\n",
    "    if not task:\n",
    "        print(\"Task cannot be empty. Please try again.\")\n",
    "        return task_dict\n",
    "    elif task in task_dict[day]:\n",
    "        print(f'\"{task}\" already exists for {day}. Please try again.')\n",
    "        return task_dict    \n",
    "    else:\n",
    "        task_dict[day][task] = False  # Add the task to the specified day with a default status of False\n",
    "    return task_dict"
   ]
  },
  {
   "cell_type": "code",
   "execution_count": 8,
   "id": "455642ac",
   "metadata": {},
   "outputs": [
    {
     "name": "stdout",
     "output_type": "stream",
     "text": [
      "Copy one day:  Monday, Tuesday, Wednesday, Thursday, Friday, Saturday, Sunday\n",
      "You entered the day:  \"Friday\"\n",
      "You entered the task:  \"Football\"\n",
      "Current task storage: \n",
      " {'Monday': {'Chores': False, 'Voley': False}, 'Tuesday': {'Running': False}, 'Wednesday': {'Doctor Appoiment': False}, 'Thursday': {}, 'Friday': {'Football': False}, 'Saturday': {}, 'Sunday': {}}\n"
     ]
    }
   ],
   "source": [
    "task_storage = add_task_to(task_storage, week_days)\n",
    "print(\"Current task storage: \\n\", task_storage)"
   ]
  },
  {
   "cell_type": "code",
   "execution_count": 9,
   "id": "4ce280fe-fea3-43e4-be24-022607ffa934",
   "metadata": {
    "id": "4ce280fe-fea3-43e4-be24-022607ffa934",
    "scrolled": true
   },
   "outputs": [],
   "source": [
    "#your code goes here\n",
    "def add_habit_to(habits_dict = habits_tracker,week_list = week_days):\n",
    "    \"\"\"\n",
    "    Function to add a weekly habit to the habits tracker after user input.\n",
    "    Parameters: \n",
    "    - habits_dict (dict): The dictionary containing habits for the week.\n",
    "    - week_list (list): The list of days in the week.\n",
    "    Returns:\n",
    "    - habits_dict (dict): The updated dictionary with the new habit added.\n",
    "    \"\"\"\n",
    "    habit = input(\"Add a habit (e.g Drink Water): \").strip().title()\n",
    "    print(\"You entered the habit: \", f'\"{habit}\"')\n",
    "    if not habit:\n",
    "        print(\"Habit cannot be empty. Please try again.\")\n",
    "        return habits_dict\n",
    "    elif habit in habits_dict.keys():\n",
    "        print(f\"{habit} already exists in the habits tracker. Please add a new one.\")\n",
    "        return habits_dict\n",
    "    else:\n",
    "        habits_dict[habit] = {}\n",
    "        for day in week_list:\n",
    "            habits_dict[habit][day] = False # Initialize the habit for each day with a default status of False\n",
    "    return habits_dict"
   ]
  },
  {
   "cell_type": "code",
   "execution_count": 11,
   "id": "5922f001",
   "metadata": {},
   "outputs": [
    {
     "name": "stdout",
     "output_type": "stream",
     "text": [
      "You entered the habit:  \"Drink Water\"\n",
      "Current habit tracker: \n",
      " {'Data Cleanin': {'Monday': False, 'Tuesday': False, 'Wednesday': False, 'Thursday': False, 'Friday': False, 'Saturday': False, 'Sunday': False}, 'Drink Water': {'Monday': False, 'Tuesday': False, 'Wednesday': False, 'Thursday': False, 'Friday': False, 'Saturday': False, 'Sunday': False}}\n"
     ]
    }
   ],
   "source": [
    "habits_tracker = add_habit_to(habits_tracker, week_days)\n",
    "print(\"Current habit tracker: \\n\", habits_tracker)"
   ]
  },
  {
   "cell_type": "markdown",
   "id": "2b4d9b4d-c7cb-4e18-a989-6bf66ce0488d",
   "metadata": {
    "id": "2b4d9b4d-c7cb-4e18-a989-6bf66ce0488d"
   },
   "source": [
    "## Part 3: Marking Tasks and Habits as Complete\n",
    "In this part, you'll implement two functions to allow users to mark their progress: one for tasks and one for habits.\n",
    "### Instructions:\n",
    "1. Create a function to mark tasks as complete:\n",
    "- Display all uncompleted tasks along with the day they belong to.\n",
    "- Ask the user to enter the name of the task they completed.\n",
    "- Find and update the task in your data structure by setting its value to *True*.\n",
    "- If all tasks are completed, display a message saying so.\n",
    "- Make sure to validate the day and check if the task exists. Display a message if the task does not exist or if the day was invalid.\n",
    "- **BONUS:** If the task is from a day before today, print a encouraging or funny message like: \"Task marked as complete. Better late than never!\" **Tip:** You can use the *datetime* library.\n",
    "\n",
    "2. Create a function to mark habits as complete:\n",
    "- Ask the user to enter the day and the name of the habit.\n",
    "- Make sure to validate the day and check if the habit exists. Display a message if the habit does not exist or if the day was invalid.\n",
    "- Update the habit’s status for that day by setting its value to *True*.\n",
    "\n",
    "#### Tips:\n",
    "- Use **.strip()** and **.title()** to clean up user input.\n",
    "- Always check if the dictionary contains data before trying to access something.\n",
    "- **If the day, habit or task doesn't exist, show a helpful error message.**\n",
    "  \n",
    "**Helpful note:** You can access a dictionary’s information using loops like this:"
   ]
  },
  {
   "cell_type": "code",
   "execution_count": null,
   "id": "30bb895d-dd03-402a-ac23-98b07fae6602",
   "metadata": {
    "id": "30bb895d-dd03-402a-ac23-98b07fae6602",
    "outputId": "eb3b27e8-aa92-433b-e363-8b7ca0fbe209"
   },
   "outputs": [
    {
     "name": "stdout",
     "output_type": "stream",
     "text": [
      "a = 1\n",
      "b = 2\n",
      "c = 3\n"
     ]
    }
   ],
   "source": [
    "my_dict = {\n",
    "    \"a\": 1,\n",
    "    \"b\": 2,\n",
    "    \"c\": 3\n",
    "}\n",
    "\n",
    "# Loop through keys and values\n",
    "for key, value in my_dict.items():\n",
    "    print(f\"{key} = {value}\")\n"
   ]
  },
  {
   "cell_type": "markdown",
   "id": "3232b6a3-02ef-448e-9d92-4579cf3dc54a",
   "metadata": {
    "id": "3232b6a3-02ef-448e-9d92-4579cf3dc54a"
   },
   "source": [
    "This will print each key and its value.\n",
    "\n",
    "You can also loop just through keys with ***for key in my_dict:*** or just values with for value in ***my_dict.values():***"
   ]
  },
  {
   "cell_type": "code",
   "execution_count": 12,
   "id": "ac83b67f-6984-4325-b9e0-1dbc2a0f58b8",
   "metadata": {
    "id": "ac83b67f-6984-4325-b9e0-1dbc2a0f58b8"
   },
   "outputs": [],
   "source": [
    "#your code goes here\n",
    "def mark_task_completed(task_dict=task_storage, week_list=week_days):\n",
    "    \"\"\"\n",
    "    Function to mark a task as completed.\n",
    "    Parameters: \n",
    "    - task_dict (dict): The dictionary containing tasks for each day.\n",
    "    - week_list (list): The list of days in the week.\n",
    "    Returns:\n",
    "    - task_dict (dict): The updated dictionary with the task marked as completed.\n",
    "    \"\"\"\n",
    "    # Check dictionary is not empty\n",
    "    if not task_dict:\n",
    "        print(\"No tasks available to mark as completed.\")\n",
    "        return task_dict\n",
    "    # Check if all tasks are completed\n",
    "    all_completed = True\n",
    "    for day, tasks in task_dict.items():\n",
    "        for status in tasks.values():\n",
    "            if not status:\n",
    "                all_completed = False\n",
    "                break\n",
    "    if all_completed:\n",
    "        print(\"All tasks are already completed for the week. Congratulations!\")\n",
    "        return task_dict\n",
    "    \n",
    "    # Added input for day because same task could be in different days\n",
    "    day_of_task = input(\"Enter the day of the task you want to mark as completed: \").strip().title()\n",
    "    if not day_of_task:\n",
    "        print(\"Day cannot be empty. Please try again.\")\n",
    "        return task_dict\n",
    "    elif day_of_task not in week_list:\n",
    "        print(f\"{day_of_task} is not a valid day. Please try again.\")\n",
    "        return task_dict\n",
    "    \n",
    "    completed_task = input(\"Enter the task you completed from above: \")\n",
    "    if not completed_task:\n",
    "        print(\"Task cannot be empty. Please try again.\")\n",
    "        return task_dict\n",
    "    elif completed_task not in task_dict[day_of_task]:\n",
    "        print(f\"{completed_task} is not a task in {day_of_task}. Please try again.\")\n",
    "        return task_dict\n",
    "    elif task_dict[day_of_task][completed_task]:\n",
    "        print(f\"{completed_task} is already marked as completed for {day_of_task}.\")\n",
    "        return task_dict\n",
    "    else:\n",
    "        task_dict[day_of_task][completed_task] = True  # Mark the task as completed\n",
    "        today = datetime.date.today().weekday() \n",
    "        day_of_task_int = time.strptime(day_of_task, '%A').tm_wday \n",
    "        # Bonus Check when if was finished on time or not\n",
    "        if today == day_of_task_int:\n",
    "            print(f\"You have completed the task {completed_task} on time.\")\n",
    "        elif today > day_of_task_int:\n",
    "            print(f\"Task {completed_task} marked as complete. Better late than never!\")\n",
    "        elif today < day_of_task_int:\n",
    "            print(f\"Task {completed_task} marked as complete ahead of time. Great job!\")\n",
    "    print(\"\")\n",
    "    print(\"Updated task status: \\n\")\n",
    "    print_tasks(task_dict)\n",
    "    return task_dict"
   ]
  },
  {
   "cell_type": "code",
   "execution_count": 14,
   "id": "c0f4d34d",
   "metadata": {},
   "outputs": [
    {
     "name": "stdout",
     "output_type": "stream",
     "text": [
      "Current Task Tracker:\n",
      "--------------------\n",
      "Uncompleted tasks:\n",
      "--------------------\n",
      "\tMonday: Voley\n",
      "\tTuesday: Running\n",
      "\tWednesday: Doctor Appoiment\n",
      "\tFriday: Football\n",
      "--------------------\n",
      "Completed tasks:\n",
      "--------------------\n",
      "\tMonday: Chores\n",
      "--------------------\n",
      "Task Football marked as complete ahead of time. Great job!\n",
      "\n",
      "Updated task status: \n",
      "\n",
      "Current Task Tracker:\n",
      "--------------------\n",
      "Uncompleted tasks:\n",
      "--------------------\n",
      "\tMonday: Voley\n",
      "\tTuesday: Running\n",
      "\tWednesday: Doctor Appoiment\n",
      "--------------------\n",
      "Completed tasks:\n",
      "--------------------\n",
      "\tMonday: Chores\n",
      "\tFriday: Football\n",
      "--------------------\n"
     ]
    }
   ],
   "source": [
    "print_tasks(task_storage)\n",
    "task_storage = mark_task_completed(task_storage, week_days)"
   ]
  },
  {
   "cell_type": "code",
   "execution_count": 15,
   "id": "57e7ed4d-c30d-46ae-a714-da282a196796",
   "metadata": {
    "id": "57e7ed4d-c30d-46ae-a714-da282a196796",
    "scrolled": true
   },
   "outputs": [],
   "source": [
    "#your code goes here\n",
    "def mark_habit_completed(habits_dict=habits_tracker, week_list=week_days):\n",
    "    \"\"\"\n",
    "    Function to mark a habit as completed for a specific day.\n",
    "    Parameters: \n",
    "    - habits_dict (dict): The dictionary containing habits for the week.\n",
    "    - week_list (list): The list of days in the week.\n",
    "    Returns:\n",
    "    - habits_dict (dict): Habits dictionary with current completion.\n",
    "    \"\"\"\n",
    "    # Check dictionary is not empty\n",
    "    if not habits_dict:\n",
    "        print(\"No habits available to mark as completed.\")\n",
    "        return habits_dict\n",
    "    # Check if all habits are completed\n",
    "    all_completed = True\n",
    "    for habit in habits_dict.keys():\n",
    "        for day,status in habits_dict[habit].items():\n",
    "            if not status:\n",
    "                all_completed = False\n",
    "                break\n",
    "    if all_completed:\n",
    "        print(\"All habits are already completed for the week. Congratulations!\")\n",
    "        return habits_dict\n",
    "    \n",
    "    habit_completed = input(\"Enter the habit you want to mark as completed: \").title()\n",
    "    if not habit_completed:\n",
    "        print(\"Habit cannot be empty. Please try again.\")\n",
    "        return habits_dict\n",
    "    elif habit_completed not in habits_dict:\n",
    "        print(f\"{habit_completed} is not a valid habit. Please try again.\")\n",
    "        return habits_dict\n",
    "\n",
    "    day_of_task = input(\"Enter the day of the task you want to mark as completed: \").strip().title()\n",
    "    if not day_of_task:\n",
    "        print(\"Day cannot be empty. Please try again.\")\n",
    "        return habits_dict\n",
    "    elif day_of_task not in week_list:\n",
    "        print(f\"{day_of_task} is not a valid day. Please try again.\")\n",
    "        return habits_dict\n",
    "    elif habits_dict[habit_completed][day_of_task]:\n",
    "        print(f\"{habit_completed} is already marked as completed for {day_of_task}.\")\n",
    "        return habits_dict\n",
    "    else:\n",
    "        habits_dict[habit_completed][day_of_task] = True\n",
    "    print(\"\")\n",
    "    print(\"Updated Habits Status: \\n\")\n",
    "    print_habits(habits_dict)\n",
    "    return habits_dict\n"
   ]
  },
  {
   "cell_type": "code",
   "execution_count": 19,
   "id": "e4ee1cf2",
   "metadata": {},
   "outputs": [
    {
     "name": "stdout",
     "output_type": "stream",
     "text": [
      "Current Habit Tracker:\n",
      "--------------------\n",
      "\n",
      "Data Cleanin\n",
      "--------------------\n",
      "\tMonday: Not Completed\n",
      "\tTuesday: Not Completed\n",
      "\tWednesday: Not Completed\n",
      "\tThursday: Not Completed\n",
      "\tFriday: Not Completed\n",
      "\tSaturday: Not Completed\n",
      "\tSunday: Not Completed\n",
      "\n",
      "Drink Water\n",
      "--------------------\n",
      "\tMonday: Completed\n",
      "\tTuesday: Not Completed\n",
      "\tWednesday: Not Completed\n",
      "\tThursday: Not Completed\n",
      "\tFriday: Completed\n",
      "\tSaturday: Not Completed\n",
      "\tSunday: Not Completed\n",
      "\n",
      "Updated Habits Status: \n",
      "\n",
      "Current Habit Tracker:\n",
      "--------------------\n",
      "\n",
      "Data Cleanin\n",
      "--------------------\n",
      "\tMonday: Completed\n",
      "\tTuesday: Not Completed\n",
      "\tWednesday: Not Completed\n",
      "\tThursday: Not Completed\n",
      "\tFriday: Not Completed\n",
      "\tSaturday: Not Completed\n",
      "\tSunday: Not Completed\n",
      "\n",
      "Drink Water\n",
      "--------------------\n",
      "\tMonday: Completed\n",
      "\tTuesday: Not Completed\n",
      "\tWednesday: Not Completed\n",
      "\tThursday: Not Completed\n",
      "\tFriday: Completed\n",
      "\tSaturday: Not Completed\n",
      "\tSunday: Not Completed\n"
     ]
    }
   ],
   "source": [
    "print_habits(habits_tracker)\n",
    "habits_tracker = mark_habit_completed(habits_tracker, week_days)\n"
   ]
  },
  {
   "cell_type": "markdown",
   "id": "9d889f9f-d755-4609-a045-d39dcd8353c6",
   "metadata": {
    "id": "9d889f9f-d755-4609-a045-d39dcd8353c6"
   },
   "source": [
    "## Part 4: Removing Tasks and Habits\n",
    "\n",
    "For this and all subsequent submissions, track your project progress with version control in a local repository connected to GitHub. Create a directory with your first initial and last name (ex. project-sclarke for Sarah Clarke) to keep track of the files relating to the project.\n",
    "\n",
    "Next, connect the local Git repository to GitHub. Ensure the GitHub repository is set to public, and include the link here:\n",
    "\n",
    "**GitHub Link:** `https://github.com/bespinosaaco/MPFDA-bespinosa`\n",
    "\n",
    "For tracking progress, there should be a *minimum* of 3 commits in the version history by the end of the project, one for each submission (version with parts 1-3 completed, version with parts 1-5, final submission version).\n",
    "\n",
    "\n",
    "### Instructions:\n",
    "1. Create a function to remove a task:\n",
    "- Ask the user which day the task is on.\n",
    "- Show the list of tasks for that day, if there are none, display a message saying so.\n",
    "- Ask the user which task to remove.\n",
    "- If the task exists, delete it from the dictionary using del and display a message saying which task was deleted.\n",
    "- Make sure to validate the day and check if the task exists. Display a message if the task does not exist or if the day was invalid.\n",
    "\n",
    "2. Create a function to remove a habit:\n",
    "- Display all habits that are currently being tracked.\n",
    "- Ask the user which habit to remove. Display a message if the habit does not exist.\n",
    "- If it exists in the dictionary, delete it using del and display a message saying which habit was deleted.\n",
    "- Make sure to validate the day and check if the habit exists. Display a message if the habit does not exist or if the day was invalid.\n",
    "\n",
    "#### Tips:\n",
    "- Use **.strip()** and **.title()** to clean up user input.\n",
    "- Always check if the dictionary contains data before trying to access or delete something.\n",
    "- **If the day, habit or task doesn't exist, show a helpful error message.**"
   ]
  },
  {
   "cell_type": "code",
   "execution_count": 20,
   "id": "49bc0d69-db7d-4d06-b024-5ba01de17709",
   "metadata": {
    "id": "49bc0d69-db7d-4d06-b024-5ba01de17709"
   },
   "outputs": [],
   "source": [
    "#your code goes here\n",
    "def remove_task(task_dict=task_storage, week_list=week_days):\n",
    "    '''\n",
    "    Function to remove a task from the task storage.\n",
    "    Parameters:\n",
    "    - task_dict (dict): The dictionary containing tasks for each day.\n",
    "    - week_days (list): The list of days in the week.\n",
    "    Returns:\n",
    "    - task_dict (dict): The updated dictionary with the task removed.\n",
    "    '''\n",
    "    day = input(\"Enter the day of the task you want to remove: \").strip().title()\n",
    "    if not day:\n",
    "        print(\"Day cannot be empty. Please try again.\")\n",
    "        return task_dict\n",
    "    elif day not in week_list:\n",
    "        print(f\"{day} is not a valid day. Please try again.\")\n",
    "        return task_dict\n",
    "    print( \"Tasks for\", day, \":\")\n",
    "    for task in task_dict[day].keys():\n",
    "        print(f\"\\t{task}\")\n",
    "    task_to_remove = input(\"Enter the task you want to remove: \").strip().title()\n",
    "    if not task_to_remove:\n",
    "        print(\"Task cannot be empty. Please try again.\")\n",
    "        return task_dict\n",
    "    elif task_to_remove not in task_dict[day]:\n",
    "        print(f\"{task_to_remove} is not a valid task for {day}. Please try again.\")\n",
    "        return task_dict\n",
    "    else:\n",
    "        del task_dict[day][task_to_remove]  # Remove the specified task from the day\n",
    "        print(f\"{task_to_remove} has been removed from {day}.\")\n",
    "    return task_dict"
   ]
  },
  {
   "cell_type": "code",
   "execution_count": 35,
   "id": "0f0344e5",
   "metadata": {},
   "outputs": [
    {
     "name": "stdout",
     "output_type": "stream",
     "text": [
      "M is not a valid day. Please try again.\n",
      "\n",
      "Current Task Tracker:\n",
      "--------------------\n",
      "Uncompleted tasks:\n",
      "--------------------\n",
      "\tThursday: Voleyball\n",
      "\tFriday: Doctor Appoiment\n",
      "--------------------\n",
      "Completed tasks:\n",
      "--------------------\n",
      "--------------------\n"
     ]
    }
   ],
   "source": [
    "task_storage = remove_task(task_storage, week_days)\n",
    "print(\"\")\n",
    "print_tasks(task_storage)"
   ]
  },
  {
   "cell_type": "code",
   "execution_count": 21,
   "id": "02fa45e1-cf69-4601-aded-b6c3cfde2070",
   "metadata": {
    "id": "02fa45e1-cf69-4601-aded-b6c3cfde2070"
   },
   "outputs": [],
   "source": [
    "#your code goes here\n",
    "def remove_habit(habits_dict=habits_tracker):\n",
    "    \"\"\"\n",
    "    Function to remove a habit from the habits tracker.\n",
    "    Parameters:\n",
    "    - habits_dict (dict): The dictionary containing habits for the week.\n",
    "    - week_list (list): The list of days in the week.\n",
    "    Returns:\n",
    "    - habits_dict (dict): The updated dictionary with the habit removed.\n",
    "    \"\"\"\n",
    "    habit_to_remove = input(\"Enter the habit you want to remove: \").strip().title()\n",
    "    if not habit_to_remove:\n",
    "        print(\"Habit cannot be empty. Please try again.\")\n",
    "        return habits_dict\n",
    "    elif habit_to_remove not in habits_dict.keys():\n",
    "        print(f\"{habit_to_remove} is not a valid habit. Please try again.\")\n",
    "        return habits_dict\n",
    "    else:\n",
    "        del habits_dict[habit_to_remove]  # Remove the specified habit\n",
    "        print(f\"{habit_to_remove} has been removed from the habits tracker.\")\n",
    "    return habits_dict\n"
   ]
  },
  {
   "cell_type": "code",
   "execution_count": 40,
   "id": "17a25c6e",
   "metadata": {},
   "outputs": [
    {
     "name": "stdout",
     "output_type": "stream",
     "text": [
      "Drink Water has been removed from the habits tracker.\n",
      "\n",
      "Current Habit Tracker:\n",
      "--------------------\n",
      "\n",
      "Clean Data\n",
      "--------------------\n",
      "\tMonday: Completed\n",
      "\tTuesday: Not Completed\n",
      "\tWednesday: Not Completed\n",
      "\tThursday: Not Completed\n",
      "\tFriday: Not Completed\n",
      "\tSaturday: Not Completed\n",
      "\tSunday: Not Completed\n"
     ]
    }
   ],
   "source": [
    "habits_tracker = remove_habit(habits_tracker)\n",
    "print(\"\")   \n",
    "print_habits(habits_tracker)"
   ]
  },
  {
   "cell_type": "markdown",
   "id": "e7f5f645-b3f5-4425-b339-2df5941fefd2",
   "metadata": {
    "id": "e7f5f645-b3f5-4425-b339-2df5941fefd2"
   },
   "source": [
    "## Part 5: Generating Weekly and Daily Reports\n",
    "\n",
    "### Instructions:\n",
    "1. Create a Weekly Report Function\n",
    "\n",
    "This function should summarize the user's progress over the entire week.\n",
    "- For Habits:\n",
    "    - Loop through each habit in your habit tracker.\n",
    "    - Count how many days the habit was marked as complete using a loop or a list comprehension.\n",
    "    - Display the habit name and the number of days it was completed out of 7.\n",
    "    - Display a message if there are no habits found.\n",
    "- For Tasks:\n",
    "    - Loop through all days and collect tasks into two separate lists:\n",
    "        - One for completed tasks\n",
    "        - One for not completed tasks\n",
    "    - Include the task name and the day in parentheses.\n",
    "    - Display both lists clearly.\n",
    "    - Display a message if there are no tasks found.\n",
    "\n",
    "2. Create a Daily Report Function\n",
    "\n",
    "This function allows the user to view all their activity for a specific day.\n",
    "\n",
    "- Ask the user to enter a day (e.g., \"Monday\").\n",
    "- If the day is valid:\n",
    "    - Display all tasks for that day, showing whether each one is complete or not.\n",
    "    - Display all habits, showing whether they were completed on that day.\n",
    "- Use ✅ for completed and ❌ for not completed.\n",
    "\n",
    "#### Tips:\n",
    "- Use **.title()** to make sure the input day matches the format in your list.\n",
    "- Use clear formatting in your print statements to separate sections.\n",
    "- Always check if the dictionary contains data before trying to access something.\n",
    "- **If the day doesn't exist, show a helpful error message.**"
   ]
  },
  {
   "cell_type": "code",
   "execution_count": 34,
   "id": "b4b1d7d1-b604-435c-887e-c83ba04f6cca",
   "metadata": {
    "id": "b4b1d7d1-b604-435c-887e-c83ba04f6cca"
   },
   "outputs": [],
   "source": [
    "#your code goes here\n",
    "def weekly_summary(task_dict=task_storage, habits_dict=habits_tracker):\n",
    "    \"\"\"\n",
    "    Function to print a summary of tasks and habits for the week.\n",
    "    Parameters:\n",
    "    - task_dict (dict): The dictionary containing tasks for each day.\n",
    "    - habits_dict (dict): The dictionary containing habits for the week.\n",
    "    Returns:\n",
    "    - None: Prints the summary directly.\n",
    "    \"\"\"\n",
    "    if not habits_dict:\n",
    "        print(\"No habits tracked for the week.\")\n",
    "        return\n",
    "    if not task_dict:\n",
    "        print(\"No tasks tracked for the week.\")\n",
    "        return\n",
    "    print(\"Weekly Report:\")\n",
    "    print(\"--------------------\")\n",
    "    \n",
    "    print(\"Habits Summary:\")\n",
    "    print(\"--------------------\")\n",
    "    count_completed_habits = 0\n",
    "    for habit in habits_dict.keys():\n",
    "        for day, status in habits_dict[habit].items():\n",
    "            if status:\n",
    "                count_completed_habits += 1\n",
    "                status_str = \"Completed\"\n",
    "            else:\n",
    "                status_str = \"Not Completed\"\n",
    "        print(f\"{habit} completed {count_completed_habits} times this week.\")\n",
    "    print(\"--------------------\")\n",
    "    print(\"Tasks Summary:\")\n",
    "    print(\"--------------------\")\n",
    "    completed_tasks = []               # Remade this to comply with the indications but the print_tasks function already does this\n",
    "    uncompleted_tasks = []\n",
    "    for day, tasks in task_dict.items():\n",
    "        for task, status in tasks.items():\n",
    "            if status:\n",
    "                completed_tasks.append((task, day))\n",
    "            else:\n",
    "                uncompleted_tasks.append((task, day))\n",
    "    print(\"Completed Tasks:\")\n",
    "    for task in completed_tasks:\n",
    "        print(f\"\\t{task[0]} on {task[1]}\")\n",
    "    print(\"Uncompleted Tasks:\")\n",
    "    for task in uncompleted_tasks:\n",
    "        print(f\"\\t{task[0]} on {task[1]}\")\n",
    "    return"
   ]
  },
  {
   "cell_type": "code",
   "execution_count": 33,
   "id": "197d24fe",
   "metadata": {},
   "outputs": [
    {
     "name": "stdout",
     "output_type": "stream",
     "text": [
      "Weekly Report:\n",
      "--------------------\n",
      "Habits Summary:\n",
      "--------------------\n",
      "Data Cleanin completed 1 times this week.\n",
      "Drink Water completed 3 times this week.\n",
      "--------------------\n",
      "Tasks Summary:\n",
      "--------------------\n",
      "Completed Tasks:\n",
      "\tChores on Monday\n",
      "\tFootball on Friday\n",
      "Uncompleted Tasks:\n",
      "\tVoley on Monday\n",
      "\tRunning on Tuesday\n",
      "\tDoctor Appoiment on Wednesday\n"
     ]
    }
   ],
   "source": [
    "weekly_summary(task_storage, habits_tracker)"
   ]
  },
  {
   "cell_type": "code",
   "execution_count": 49,
   "id": "5b16088c-530a-492a-b507-58b73d6c73ad",
   "metadata": {
    "id": "5b16088c-530a-492a-b507-58b73d6c73ad"
   },
   "outputs": [],
   "source": [
    "#your code goes here\n",
    "def view_activity(habits_dict=habits_tracker, task_dict=task_storage,week_list=week_days):\n",
    "    \"\"\"\n",
    "    Function to view the activity of tasks and habits per day.\n",
    "    Parameters:\n",
    "    - habits_dict (dict): The dictionary containing habits for the week.\n",
    "    - task_dict (dict): The dictionary containing tasks for each day.\n",
    "    - week_list (list): The list of days in the week.\n",
    "    Returns:\n",
    "    - None: Prints the activity directly.\n",
    "    \"\"\"\n",
    "    if not habits_dict:\n",
    "        print(\"No habits tracked for the week.\")\n",
    "        return\n",
    "    if not task_dict:\n",
    "        print(\"No tasks tracked for the week.\")\n",
    "        return\n",
    "    day = input(\"Enter the day you want to view activity for (e.g. Monday): \").strip().title()\n",
    "    if not day:\n",
    "        print(\"Day cannot be empty. Please try again.\")\n",
    "        return\n",
    "    elif day not in week_list:\n",
    "        print(f\"{day} is not a valid day. Please try again.\")\n",
    "        return\n",
    "    print(f\"{day} activity summary:\")\n",
    "    print(\"--------------------\")\n",
    "    print(\"Tasks:\")\n",
    "    if day in task_dict:\n",
    "        if not task_dict[day]:\n",
    "            print(\"\\tNo tasks for this day.\")\n",
    "        else:\n",
    "            for task, status in task_dict[day].items():\n",
    "                if status:\n",
    "                    print(f\"\\t{task} - ✅\")\n",
    "                else:\n",
    "                    print(f\"\\t{task} - ❌\")\n",
    "    print(\"Habits:\")\n",
    "    for habit, days in habits_dict.items():\n",
    "        if day in days:\n",
    "            if days[day]:\n",
    "                print(f\"\\t{habit} - ✅\")\n",
    "            else:\n",
    "                print(f\"\\t{habit} - ❌\")\n",
    "    return\n"
   ]
  },
  {
   "cell_type": "code",
   "execution_count": 48,
   "id": "ca0489a0",
   "metadata": {},
   "outputs": [
    {
     "name": "stdout",
     "output_type": "stream",
     "text": [
      "Monday activity summary:\n",
      "--------------------\n",
      "Tasks:\n",
      "\tChores - ✅\n",
      "\tVoley - ❌\n",
      "Habits:\n",
      "\tData Cleanin - ✅\n",
      "\tDrink Water - ✅\n"
     ]
    }
   ],
   "source": [
    "view_activity(habits_tracker, task_storage, week_days)"
   ]
  },
  {
   "cell_type": "markdown",
   "id": "6fa4385e-f80a-4465-abf2-5593d6afb88e",
   "metadata": {
    "id": "6fa4385e-f80a-4465-abf2-5593d6afb88e"
   },
   "source": [
    "## Part 6: Instructions – Building the Main Menu System\n",
    "In this final part, you'll create a main control loop that acts as the user interface for your program. This allows users to interact with your habit and task tracker through a series of text-based menu options.\n",
    "\n",
    "### Instructions:\n",
    "1. Set Up a Loop: Use a loop to keep showing the menu until the user chooses to exit.\n",
    "\n",
    "2. Display the Main Menu\n",
    "- Show numbered options for:\n",
    "    - 1. Adding a Task or Habit\n",
    "    - 2. Marking a Task or Habit as complete\n",
    "    - 3. Removing a Task or Habit\n",
    "    - 4. Viewing reports\n",
    "    - 5. Exiting the program\n",
    "\n",
    "3. Handle User Input\n",
    "   \n",
    "Ask the user to choose an option using input(). Based on the number they enter:\n",
    "\n",
    "- Option 1: Ask whether they want to add a Task or a Habit. Call the correct function.\n",
    "- Option 2: Ask whether they want to mark a Task or Habit as complete. Call the right function.\n",
    "- Option 3: Ask whether they want to remove a Task or a Habit. Call the appropriate function.\n",
    "- Option 4: Ask whether they want a Weekly or Daily report. Call the corresponding function.\n",
    "- Option 5: Exit the loop using break.\n",
    "\n",
    "4. Validate Input: Check for valid input at each step. If the user enters an invalid choice, show an error message and return to the menu."
   ]
  },
  {
   "cell_type": "code",
   "execution_count": 10,
   "id": "e7c12d32-31d4-4c02-8e19-3304dfea818b",
   "metadata": {
    "id": "e7c12d32-31d4-4c02-8e19-3304dfea818b",
    "outputId": "f9bc33c1-9598-4b6f-e95d-4af49c39bf57"
   },
   "outputs": [],
   "source": [
    "#your code goes here"
   ]
  }
 ],
 "metadata": {
  "colab": {
   "provenance": []
  },
  "kernelspec": {
   "display_name": ".venv",
   "language": "python",
   "name": "python3"
  },
  "language_info": {
   "codemirror_mode": {
    "name": "ipython",
    "version": 3
   },
   "file_extension": ".py",
   "mimetype": "text/x-python",
   "name": "python",
   "nbconvert_exporter": "python",
   "pygments_lexer": "ipython3",
   "version": "3.13.2"
  }
 },
 "nbformat": 4,
 "nbformat_minor": 5
}
